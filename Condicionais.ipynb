{
  "nbformat": 4,
  "nbformat_minor": 0,
  "metadata": {
    "colab": {
      "provenance": [],
      "include_colab_link": true
    },
    "kernelspec": {
      "name": "python3",
      "display_name": "Python 3"
    },
    "language_info": {
      "name": "python"
    }
  },
  "cells": [
    {
      "cell_type": "markdown",
      "metadata": {
        "id": "view-in-github",
        "colab_type": "text"
      },
      "source": [
        "<a href=\"https://colab.research.google.com/github/lucenajj/100-days-of-code-python/blob/main/Condicionais.ipynb\" target=\"_parent\"><img src=\"https://colab.research.google.com/assets/colab-badge.svg\" alt=\"Open In Colab\"/></a>"
      ]
    },
    {
      "cell_type": "markdown",
      "source": [
        "Operadores em Python\n",
        "- Logicos: and, or, not\n",
        "\n",
        "Operadores de Igualde:\n",
        "- is\n",
        "- is not\n",
        "- ==\n",
        "- !=\n",
        "\n",
        "Operadores aritmeticos:\n",
        "- ==\n",
        "- !=\n",
        "- <\n",
        "- '>'\n",
        "- <=\n",
        "- '>='\n",
        "\n",
        "- OBS: Um = apenas é atribuir, não e comparador"
      ],
      "metadata": {
        "id": "H3Qokle3AEog"
      }
    },
    {
      "cell_type": "code",
      "execution_count": null,
      "metadata": {
        "id": "Mdw0uf1890gw"
      },
      "outputs": [],
      "source": [
        "# Condicionais - >"
      ]
    },
    {
      "cell_type": "code",
      "source": [],
      "metadata": {
        "id": "IVzohjDIADlx"
      },
      "execution_count": null,
      "outputs": []
    }
  ]
}